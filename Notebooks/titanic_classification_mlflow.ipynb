{
 "cells": [
  {
   "cell_type": "code",
   "execution_count": 3,
   "id": "74f0a271-3079-4639-9e31-bfd19035884e",
   "metadata": {},
   "outputs": [],
   "source": [
    "import numpy as np\n",
    "\n",
    "from sklearn.compose import ColumnTransformer\n",
    "from sklearn.datasets import fetch_openml\n",
    "from sklearn.pipeline import Pipeline\n",
    "from sklearn.impute import SimpleImputer\n",
    "from sklearn.preprocessing import StandardScaler, OneHotEncoder\n",
    "from sklearn.linear_model import LogisticRegression\n",
    "from sklearn.model_selection import train_test_split, GridSearchCV\n",
    "import mlflow\n",
    "\n",
    "np.random.seed(0)"
   ]
  },
  {
   "cell_type": "markdown",
   "id": "5e0cc0f7",
   "metadata": {},
   "source": [
    "Load data from https://www.openml.org/d/40945"
   ]
  },
  {
   "cell_type": "code",
   "execution_count": 4,
   "id": "9cc0329d-7276-471c-a4ff-7e5ebe4b8e24",
   "metadata": {},
   "outputs": [],
   "source": [
    "X, y = fetch_openml(\"titanic\", version=1, as_frame=True, return_X_y=True)\n",
    "\n",
    "# Alternatively X and y can be obtained directly from the frame attribute:\n",
    "# X = titanic.frame.drop('survived', axis=1)\n",
    "# y = titanic.frame['survived']"
   ]
  },
  {
   "cell_type": "markdown",
   "id": "ad7fa2b6",
   "metadata": {},
   "source": [
    "Use ColumnTransformer by selecting column by names\n",
    "\n",
    "We will train our classifier with the following features:\n",
    "\n",
    "Numeric Features:\n",
    "\n",
    "    age: float;\n",
    "\n",
    "    fare: float.\n",
    "\n",
    "Categorical Features:\n",
    "\n",
    "    embarked: categories encoded as strings {'C', 'S', 'Q'};\n",
    "\n",
    "    sex: categories encoded as strings {'female', 'male'};\n",
    "\n",
    "    pclass: ordinal integers {1, 2, 3}.\n",
    "\n",
    "We create the preprocessing pipelines for both numeric and categorical data. Note that pclass could either be treated as a categorical or numeric feature."
   ]
  },
  {
   "cell_type": "code",
   "execution_count": 3,
   "id": "7eb874d1-b77e-46d4-a7d2-56bfce429452",
   "metadata": {},
   "outputs": [],
   "source": [
    "numeric_features = [\"age\", \"fare\"]\n",
    "numeric_transformer = Pipeline(\n",
    "    steps=[(\"imputer\", SimpleImputer(strategy=\"mean\")), (\"scaler\", StandardScaler())]\n",
    ")\n",
    "\n",
    "categorical_features = [\"embarked\", \"sex\", \"pclass\"]\n",
    "categorical_transformer = OneHotEncoder(handle_unknown=\"ignore\")\n",
    "\n",
    "preprocessor = ColumnTransformer(\n",
    "    transformers=[\n",
    "        (\"num\", numeric_transformer, numeric_features),\n",
    "        (\"cat\", categorical_transformer, categorical_features),\n",
    "    ]\n",
    ")"
   ]
  },
  {
   "attachments": {},
   "cell_type": "markdown",
   "id": "3cc12729",
   "metadata": {},
   "source": [
    "Append classifier to preprocessing pipeline. Now we have a full prediction pipeline.\n",
    "\n",
    "### Set a tracking server on localhost for the registry :      \n",
    "       \n",
    "       mlflow.set_tracking_uri(\"sqlite:///mlruns.db\")\n",
    "\n",
    "### Create an experiment (will be stored in mlruns directory  wherever you run the  code)      \n",
    "       \n",
    "       EXPERIMENT_ID = mlflow.create_experiment(EXPERIMENT_NAME)\n",
    "       \n",
    "       mlflow.set_experiment(EXPERIMENT_NAME)\n",
    "For each different parameter of the model: \n",
    "    \n",
    "    - train a different model (classifier):           \n",
    "           clf.fit(X_train, y_train)\n",
    "    \n",
    "    - predict and get a score:        \n",
    "           clf.score(X_test, y_test)\n",
    "    \n",
    "####         - start a run where to log parameters, metrics and model\n",
    "           with mlflow.start_run(experiment_id=EXPERIMENT_ID, run_name=RUN_NAME)"
   ]
  },
  {
   "cell_type": "code",
   "execution_count": 7,
   "id": "9db27d48-91e6-4a00-b9e1-3886d6801fc5",
   "metadata": {
    "scrolled": true
   },
   "outputs": [
    {
     "name": "stderr",
     "output_type": "stream",
     "text": [
      "2022/10/06 11:40:02 INFO mlflow.tracking.fluent: Experiment with name 'titanic-exper1' does not exist. Creating a new experiment.\n",
      "/home/mohamed/.pyenv/versions/3.10.6/envs/mlflow-py3.10/lib/python3.10/site-packages/setuptools/distutils_patch.py:17: UserWarning: Setuptools is replacing distutils\n",
      "  warnings.warn(\"Setuptools is replacing distutils\")\n"
     ]
    },
    {
     "name": "stdout",
     "output_type": "stream",
     "text": [
      "RUN_ID:  52945918c0884114ae08126d7a36af0f  model score: 0.798\n",
      "RUN_ID:  850db276b0d54c78b477aad9496c9aaf  model score: 0.790\n",
      "RUN_ID:  196285b9a54541b28cde3541e8c489bd  model score: 0.790\n",
      "RUN_ID:  bd3995237f7a48818a74e51f8cca0774  model score: 0.790\n"
     ]
    }
   ],
   "source": [
    "params= [0.1, 1.0, 10, 100]\n",
    "\n",
    "# Use sqlite:///mlruns.db as the local store for tracking and registery\n",
    "mlflow.set_tracking_uri(\"sqlite:///mlruns.db\")\n",
    "\n",
    "#Set experiment as active if it exists or it will be created\n",
    "EXPERIMENT_NAME = \"titanic-exper1\"\n",
    "experiment = mlflow.set_experiment(EXPERIMENT_NAME)\n",
    "EXPERIMENT_ID=experiment.experiment_id\n",
    "        \n",
    "for idx, param in enumerate(params):\n",
    "    \n",
    "    # train model with different parameters\n",
    "    clf = Pipeline(\n",
    "        steps=[(\"preprocessor\", preprocessor), (\"classifier\", LogisticRegression(C=param))]\n",
    "        )\n",
    "    X_train, X_test, y_train, y_test = train_test_split(X, y, test_size=0.2, random_state=0)\n",
    "    \n",
    "    clf.fit(X_train, y_train)\n",
    "    \n",
    "    accuracy_score = clf.score(X_test, y_test)\n",
    "    \n",
    "    # logging runs with mlflow\n",
    "    RUN_NAME=f\"run_{idx}\"\n",
    "    with mlflow.start_run(experiment_id=EXPERIMENT_ID, run_name=RUN_NAME) as run:\n",
    "        # Retrieve run id\n",
    "        RUN_ID = run.info.run_id\n",
    "        \n",
    "        # mlflow log parameters\n",
    "        mlflow.log_param(\"classifier_C\",param)\n",
    "        \n",
    "        # mlflow log metrics\n",
    "        mlflow.log_metric(\"pipeline_test_score\",accuracy_score)\n",
    "        \n",
    "        # mlflow log model\n",
    "        mlflow.sklearn.log_model(clf, \"classifier_titanic\")\n",
    "        \n",
    "        \n",
    "        print(\"RUN_ID: \",RUN_ID,\" model score: %.3f\" % accuracy_score)"
   ]
  },
  {
   "cell_type": "code",
   "execution_count": 8,
   "id": "4777a62c-78ce-43ce-b014-256ed9599958",
   "metadata": {},
   "outputs": [
    {
     "data": {
      "text/html": [
       "<style>#sk-container-id-1 {color: black;background-color: white;}#sk-container-id-1 pre{padding: 0;}#sk-container-id-1 div.sk-toggleable {background-color: white;}#sk-container-id-1 label.sk-toggleable__label {cursor: pointer;display: block;width: 100%;margin-bottom: 0;padding: 0.3em;box-sizing: border-box;text-align: center;}#sk-container-id-1 label.sk-toggleable__label-arrow:before {content: \"▸\";float: left;margin-right: 0.25em;color: #696969;}#sk-container-id-1 label.sk-toggleable__label-arrow:hover:before {color: black;}#sk-container-id-1 div.sk-estimator:hover label.sk-toggleable__label-arrow:before {color: black;}#sk-container-id-1 div.sk-toggleable__content {max-height: 0;max-width: 0;overflow: hidden;text-align: left;background-color: #f0f8ff;}#sk-container-id-1 div.sk-toggleable__content pre {margin: 0.2em;color: black;border-radius: 0.25em;background-color: #f0f8ff;}#sk-container-id-1 input.sk-toggleable__control:checked~div.sk-toggleable__content {max-height: 200px;max-width: 100%;overflow: auto;}#sk-container-id-1 input.sk-toggleable__control:checked~label.sk-toggleable__label-arrow:before {content: \"▾\";}#sk-container-id-1 div.sk-estimator input.sk-toggleable__control:checked~label.sk-toggleable__label {background-color: #d4ebff;}#sk-container-id-1 div.sk-label input.sk-toggleable__control:checked~label.sk-toggleable__label {background-color: #d4ebff;}#sk-container-id-1 input.sk-hidden--visually {border: 0;clip: rect(1px 1px 1px 1px);clip: rect(1px, 1px, 1px, 1px);height: 1px;margin: -1px;overflow: hidden;padding: 0;position: absolute;width: 1px;}#sk-container-id-1 div.sk-estimator {font-family: monospace;background-color: #f0f8ff;border: 1px dotted black;border-radius: 0.25em;box-sizing: border-box;margin-bottom: 0.5em;}#sk-container-id-1 div.sk-estimator:hover {background-color: #d4ebff;}#sk-container-id-1 div.sk-parallel-item::after {content: \"\";width: 100%;border-bottom: 1px solid gray;flex-grow: 1;}#sk-container-id-1 div.sk-label:hover label.sk-toggleable__label {background-color: #d4ebff;}#sk-container-id-1 div.sk-serial::before {content: \"\";position: absolute;border-left: 1px solid gray;box-sizing: border-box;top: 0;bottom: 0;left: 50%;z-index: 0;}#sk-container-id-1 div.sk-serial {display: flex;flex-direction: column;align-items: center;background-color: white;padding-right: 0.2em;padding-left: 0.2em;position: relative;}#sk-container-id-1 div.sk-item {position: relative;z-index: 1;}#sk-container-id-1 div.sk-parallel {display: flex;align-items: stretch;justify-content: center;background-color: white;position: relative;}#sk-container-id-1 div.sk-item::before, #sk-container-id-1 div.sk-parallel-item::before {content: \"\";position: absolute;border-left: 1px solid gray;box-sizing: border-box;top: 0;bottom: 0;left: 50%;z-index: -1;}#sk-container-id-1 div.sk-parallel-item {display: flex;flex-direction: column;z-index: 1;position: relative;background-color: white;}#sk-container-id-1 div.sk-parallel-item:first-child::after {align-self: flex-end;width: 50%;}#sk-container-id-1 div.sk-parallel-item:last-child::after {align-self: flex-start;width: 50%;}#sk-container-id-1 div.sk-parallel-item:only-child::after {width: 0;}#sk-container-id-1 div.sk-dashed-wrapped {border: 1px dashed gray;margin: 0 0.4em 0.5em 0.4em;box-sizing: border-box;padding-bottom: 0.4em;background-color: white;}#sk-container-id-1 div.sk-label label {font-family: monospace;font-weight: bold;display: inline-block;line-height: 1.2em;}#sk-container-id-1 div.sk-label-container {text-align: center;}#sk-container-id-1 div.sk-container {/* jupyter's `normalize.less` sets `[hidden] { display: none; }` but bootstrap.min.css set `[hidden] { display: none !important; }` so we also need the `!important` here to be able to override the default hidden behavior on the sphinx rendered scikit-learn.org. See: https://github.com/scikit-learn/scikit-learn/issues/21755 */display: inline-block !important;position: relative;}#sk-container-id-1 div.sk-text-repr-fallback {display: none;}</style><div id=\"sk-container-id-1\" class=\"sk-top-container\"><div class=\"sk-text-repr-fallback\"><pre>Pipeline(steps=[(&#x27;preprocessor&#x27;,\n",
       "                 ColumnTransformer(transformers=[(&#x27;num&#x27;,\n",
       "                                                  Pipeline(steps=[(&#x27;imputer&#x27;,\n",
       "                                                                   SimpleImputer()),\n",
       "                                                                  (&#x27;scaler&#x27;,\n",
       "                                                                   StandardScaler())]),\n",
       "                                                  [&#x27;age&#x27;, &#x27;fare&#x27;]),\n",
       "                                                 (&#x27;cat&#x27;,\n",
       "                                                  OneHotEncoder(handle_unknown=&#x27;ignore&#x27;),\n",
       "                                                  [&#x27;embarked&#x27;, &#x27;sex&#x27;,\n",
       "                                                   &#x27;pclass&#x27;])])),\n",
       "                (&#x27;classifier&#x27;, LogisticRegression(C=100))])</pre><b>In a Jupyter environment, please rerun this cell to show the HTML representation or trust the notebook. <br />On GitHub, the HTML representation is unable to render, please try loading this page with nbviewer.org.</b></div><div class=\"sk-container\" hidden><div class=\"sk-item sk-dashed-wrapped\"><div class=\"sk-label-container\"><div class=\"sk-label sk-toggleable\"><input class=\"sk-toggleable__control sk-hidden--visually\" id=\"sk-estimator-id-1\" type=\"checkbox\" ><label for=\"sk-estimator-id-1\" class=\"sk-toggleable__label sk-toggleable__label-arrow\">Pipeline</label><div class=\"sk-toggleable__content\"><pre>Pipeline(steps=[(&#x27;preprocessor&#x27;,\n",
       "                 ColumnTransformer(transformers=[(&#x27;num&#x27;,\n",
       "                                                  Pipeline(steps=[(&#x27;imputer&#x27;,\n",
       "                                                                   SimpleImputer()),\n",
       "                                                                  (&#x27;scaler&#x27;,\n",
       "                                                                   StandardScaler())]),\n",
       "                                                  [&#x27;age&#x27;, &#x27;fare&#x27;]),\n",
       "                                                 (&#x27;cat&#x27;,\n",
       "                                                  OneHotEncoder(handle_unknown=&#x27;ignore&#x27;),\n",
       "                                                  [&#x27;embarked&#x27;, &#x27;sex&#x27;,\n",
       "                                                   &#x27;pclass&#x27;])])),\n",
       "                (&#x27;classifier&#x27;, LogisticRegression(C=100))])</pre></div></div></div><div class=\"sk-serial\"><div class=\"sk-item sk-dashed-wrapped\"><div class=\"sk-label-container\"><div class=\"sk-label sk-toggleable\"><input class=\"sk-toggleable__control sk-hidden--visually\" id=\"sk-estimator-id-2\" type=\"checkbox\" ><label for=\"sk-estimator-id-2\" class=\"sk-toggleable__label sk-toggleable__label-arrow\">preprocessor: ColumnTransformer</label><div class=\"sk-toggleable__content\"><pre>ColumnTransformer(transformers=[(&#x27;num&#x27;,\n",
       "                                 Pipeline(steps=[(&#x27;imputer&#x27;, SimpleImputer()),\n",
       "                                                 (&#x27;scaler&#x27;, StandardScaler())]),\n",
       "                                 [&#x27;age&#x27;, &#x27;fare&#x27;]),\n",
       "                                (&#x27;cat&#x27;, OneHotEncoder(handle_unknown=&#x27;ignore&#x27;),\n",
       "                                 [&#x27;embarked&#x27;, &#x27;sex&#x27;, &#x27;pclass&#x27;])])</pre></div></div></div><div class=\"sk-parallel\"><div class=\"sk-parallel-item\"><div class=\"sk-item\"><div class=\"sk-label-container\"><div class=\"sk-label sk-toggleable\"><input class=\"sk-toggleable__control sk-hidden--visually\" id=\"sk-estimator-id-3\" type=\"checkbox\" ><label for=\"sk-estimator-id-3\" class=\"sk-toggleable__label sk-toggleable__label-arrow\">num</label><div class=\"sk-toggleable__content\"><pre>[&#x27;age&#x27;, &#x27;fare&#x27;]</pre></div></div></div><div class=\"sk-serial\"><div class=\"sk-item\"><div class=\"sk-serial\"><div class=\"sk-item\"><div class=\"sk-estimator sk-toggleable\"><input class=\"sk-toggleable__control sk-hidden--visually\" id=\"sk-estimator-id-4\" type=\"checkbox\" ><label for=\"sk-estimator-id-4\" class=\"sk-toggleable__label sk-toggleable__label-arrow\">SimpleImputer</label><div class=\"sk-toggleable__content\"><pre>SimpleImputer()</pre></div></div></div><div class=\"sk-item\"><div class=\"sk-estimator sk-toggleable\"><input class=\"sk-toggleable__control sk-hidden--visually\" id=\"sk-estimator-id-5\" type=\"checkbox\" ><label for=\"sk-estimator-id-5\" class=\"sk-toggleable__label sk-toggleable__label-arrow\">StandardScaler</label><div class=\"sk-toggleable__content\"><pre>StandardScaler()</pre></div></div></div></div></div></div></div></div><div class=\"sk-parallel-item\"><div class=\"sk-item\"><div class=\"sk-label-container\"><div class=\"sk-label sk-toggleable\"><input class=\"sk-toggleable__control sk-hidden--visually\" id=\"sk-estimator-id-6\" type=\"checkbox\" ><label for=\"sk-estimator-id-6\" class=\"sk-toggleable__label sk-toggleable__label-arrow\">cat</label><div class=\"sk-toggleable__content\"><pre>[&#x27;embarked&#x27;, &#x27;sex&#x27;, &#x27;pclass&#x27;]</pre></div></div></div><div class=\"sk-serial\"><div class=\"sk-item\"><div class=\"sk-estimator sk-toggleable\"><input class=\"sk-toggleable__control sk-hidden--visually\" id=\"sk-estimator-id-7\" type=\"checkbox\" ><label for=\"sk-estimator-id-7\" class=\"sk-toggleable__label sk-toggleable__label-arrow\">OneHotEncoder</label><div class=\"sk-toggleable__content\"><pre>OneHotEncoder(handle_unknown=&#x27;ignore&#x27;)</pre></div></div></div></div></div></div></div></div><div class=\"sk-item\"><div class=\"sk-estimator sk-toggleable\"><input class=\"sk-toggleable__control sk-hidden--visually\" id=\"sk-estimator-id-8\" type=\"checkbox\" ><label for=\"sk-estimator-id-8\" class=\"sk-toggleable__label sk-toggleable__label-arrow\">LogisticRegression</label><div class=\"sk-toggleable__content\"><pre>LogisticRegression(C=100)</pre></div></div></div></div></div></div></div>"
      ],
      "text/plain": [
       "Pipeline(steps=[('preprocessor',\n",
       "                 ColumnTransformer(transformers=[('num',\n",
       "                                                  Pipeline(steps=[('imputer',\n",
       "                                                                   SimpleImputer()),\n",
       "                                                                  ('scaler',\n",
       "                                                                   StandardScaler())]),\n",
       "                                                  ['age', 'fare']),\n",
       "                                                 ('cat',\n",
       "                                                  OneHotEncoder(handle_unknown='ignore'),\n",
       "                                                  ['embarked', 'sex',\n",
       "                                                   'pclass'])])),\n",
       "                ('classifier', LogisticRegression(C=100))])"
      ]
     },
     "metadata": {},
     "output_type": "display_data"
    }
   ],
   "source": [
    "display(clf)"
   ]
  },
  {
   "cell_type": "markdown",
   "id": "feeb011a",
   "metadata": {},
   "source": [
    "Using the prediction pipeline in a grid search\n",
    "\n",
    "Grid search can also be performed on the different preprocessing steps defined in the ColumnTransformer object, together with the classifier’s hyperparameters as part of the Pipeline. We will search for both the imputer strategy of the numeric preprocessing and the regularization parameter of the logistic regression using GridSearchCV."
   ]
  },
  {
   "cell_type": "code",
   "execution_count": 9,
   "id": "3ee77d09",
   "metadata": {
    "scrolled": true
   },
   "outputs": [
    {
     "data": {
      "text/html": [
       "<style>#sk-container-id-2 {color: black;background-color: white;}#sk-container-id-2 pre{padding: 0;}#sk-container-id-2 div.sk-toggleable {background-color: white;}#sk-container-id-2 label.sk-toggleable__label {cursor: pointer;display: block;width: 100%;margin-bottom: 0;padding: 0.3em;box-sizing: border-box;text-align: center;}#sk-container-id-2 label.sk-toggleable__label-arrow:before {content: \"▸\";float: left;margin-right: 0.25em;color: #696969;}#sk-container-id-2 label.sk-toggleable__label-arrow:hover:before {color: black;}#sk-container-id-2 div.sk-estimator:hover label.sk-toggleable__label-arrow:before {color: black;}#sk-container-id-2 div.sk-toggleable__content {max-height: 0;max-width: 0;overflow: hidden;text-align: left;background-color: #f0f8ff;}#sk-container-id-2 div.sk-toggleable__content pre {margin: 0.2em;color: black;border-radius: 0.25em;background-color: #f0f8ff;}#sk-container-id-2 input.sk-toggleable__control:checked~div.sk-toggleable__content {max-height: 200px;max-width: 100%;overflow: auto;}#sk-container-id-2 input.sk-toggleable__control:checked~label.sk-toggleable__label-arrow:before {content: \"▾\";}#sk-container-id-2 div.sk-estimator input.sk-toggleable__control:checked~label.sk-toggleable__label {background-color: #d4ebff;}#sk-container-id-2 div.sk-label input.sk-toggleable__control:checked~label.sk-toggleable__label {background-color: #d4ebff;}#sk-container-id-2 input.sk-hidden--visually {border: 0;clip: rect(1px 1px 1px 1px);clip: rect(1px, 1px, 1px, 1px);height: 1px;margin: -1px;overflow: hidden;padding: 0;position: absolute;width: 1px;}#sk-container-id-2 div.sk-estimator {font-family: monospace;background-color: #f0f8ff;border: 1px dotted black;border-radius: 0.25em;box-sizing: border-box;margin-bottom: 0.5em;}#sk-container-id-2 div.sk-estimator:hover {background-color: #d4ebff;}#sk-container-id-2 div.sk-parallel-item::after {content: \"\";width: 100%;border-bottom: 1px solid gray;flex-grow: 1;}#sk-container-id-2 div.sk-label:hover label.sk-toggleable__label {background-color: #d4ebff;}#sk-container-id-2 div.sk-serial::before {content: \"\";position: absolute;border-left: 1px solid gray;box-sizing: border-box;top: 0;bottom: 0;left: 50%;z-index: 0;}#sk-container-id-2 div.sk-serial {display: flex;flex-direction: column;align-items: center;background-color: white;padding-right: 0.2em;padding-left: 0.2em;position: relative;}#sk-container-id-2 div.sk-item {position: relative;z-index: 1;}#sk-container-id-2 div.sk-parallel {display: flex;align-items: stretch;justify-content: center;background-color: white;position: relative;}#sk-container-id-2 div.sk-item::before, #sk-container-id-2 div.sk-parallel-item::before {content: \"\";position: absolute;border-left: 1px solid gray;box-sizing: border-box;top: 0;bottom: 0;left: 50%;z-index: -1;}#sk-container-id-2 div.sk-parallel-item {display: flex;flex-direction: column;z-index: 1;position: relative;background-color: white;}#sk-container-id-2 div.sk-parallel-item:first-child::after {align-self: flex-end;width: 50%;}#sk-container-id-2 div.sk-parallel-item:last-child::after {align-self: flex-start;width: 50%;}#sk-container-id-2 div.sk-parallel-item:only-child::after {width: 0;}#sk-container-id-2 div.sk-dashed-wrapped {border: 1px dashed gray;margin: 0 0.4em 0.5em 0.4em;box-sizing: border-box;padding-bottom: 0.4em;background-color: white;}#sk-container-id-2 div.sk-label label {font-family: monospace;font-weight: bold;display: inline-block;line-height: 1.2em;}#sk-container-id-2 div.sk-label-container {text-align: center;}#sk-container-id-2 div.sk-container {/* jupyter's `normalize.less` sets `[hidden] { display: none; }` but bootstrap.min.css set `[hidden] { display: none !important; }` so we also need the `!important` here to be able to override the default hidden behavior on the sphinx rendered scikit-learn.org. See: https://github.com/scikit-learn/scikit-learn/issues/21755 */display: inline-block !important;position: relative;}#sk-container-id-2 div.sk-text-repr-fallback {display: none;}</style><div id=\"sk-container-id-2\" class=\"sk-top-container\"><div class=\"sk-text-repr-fallback\"><pre>GridSearchCV(cv=10,\n",
       "             estimator=Pipeline(steps=[(&#x27;preprocessor&#x27;,\n",
       "                                        ColumnTransformer(transformers=[(&#x27;num&#x27;,\n",
       "                                                                         Pipeline(steps=[(&#x27;imputer&#x27;,\n",
       "                                                                                          SimpleImputer()),\n",
       "                                                                                         (&#x27;scaler&#x27;,\n",
       "                                                                                          StandardScaler())]),\n",
       "                                                                         [&#x27;age&#x27;,\n",
       "                                                                          &#x27;fare&#x27;]),\n",
       "                                                                        (&#x27;cat&#x27;,\n",
       "                                                                         OneHotEncoder(handle_unknown=&#x27;ignore&#x27;),\n",
       "                                                                         [&#x27;embarked&#x27;,\n",
       "                                                                          &#x27;sex&#x27;,\n",
       "                                                                          &#x27;pclass&#x27;])])),\n",
       "                                       (&#x27;classifier&#x27;,\n",
       "                                        LogisticRegression(C=100))]),\n",
       "             param_grid={&#x27;classifier__C&#x27;: [0.1, 1.0, 10, 100],\n",
       "                         &#x27;preprocessor__num__imputer__strategy&#x27;: [&#x27;mean&#x27;,\n",
       "                                                                  &#x27;median&#x27;]})</pre><b>In a Jupyter environment, please rerun this cell to show the HTML representation or trust the notebook. <br />On GitHub, the HTML representation is unable to render, please try loading this page with nbviewer.org.</b></div><div class=\"sk-container\" hidden><div class=\"sk-item sk-dashed-wrapped\"><div class=\"sk-label-container\"><div class=\"sk-label sk-toggleable\"><input class=\"sk-toggleable__control sk-hidden--visually\" id=\"sk-estimator-id-9\" type=\"checkbox\" ><label for=\"sk-estimator-id-9\" class=\"sk-toggleable__label sk-toggleable__label-arrow\">GridSearchCV</label><div class=\"sk-toggleable__content\"><pre>GridSearchCV(cv=10,\n",
       "             estimator=Pipeline(steps=[(&#x27;preprocessor&#x27;,\n",
       "                                        ColumnTransformer(transformers=[(&#x27;num&#x27;,\n",
       "                                                                         Pipeline(steps=[(&#x27;imputer&#x27;,\n",
       "                                                                                          SimpleImputer()),\n",
       "                                                                                         (&#x27;scaler&#x27;,\n",
       "                                                                                          StandardScaler())]),\n",
       "                                                                         [&#x27;age&#x27;,\n",
       "                                                                          &#x27;fare&#x27;]),\n",
       "                                                                        (&#x27;cat&#x27;,\n",
       "                                                                         OneHotEncoder(handle_unknown=&#x27;ignore&#x27;),\n",
       "                                                                         [&#x27;embarked&#x27;,\n",
       "                                                                          &#x27;sex&#x27;,\n",
       "                                                                          &#x27;pclass&#x27;])])),\n",
       "                                       (&#x27;classifier&#x27;,\n",
       "                                        LogisticRegression(C=100))]),\n",
       "             param_grid={&#x27;classifier__C&#x27;: [0.1, 1.0, 10, 100],\n",
       "                         &#x27;preprocessor__num__imputer__strategy&#x27;: [&#x27;mean&#x27;,\n",
       "                                                                  &#x27;median&#x27;]})</pre></div></div></div><div class=\"sk-parallel\"><div class=\"sk-parallel-item\"><div class=\"sk-item\"><div class=\"sk-label-container\"><div class=\"sk-label sk-toggleable\"><input class=\"sk-toggleable__control sk-hidden--visually\" id=\"sk-estimator-id-10\" type=\"checkbox\" ><label for=\"sk-estimator-id-10\" class=\"sk-toggleable__label sk-toggleable__label-arrow\">estimator: Pipeline</label><div class=\"sk-toggleable__content\"><pre>Pipeline(steps=[(&#x27;preprocessor&#x27;,\n",
       "                 ColumnTransformer(transformers=[(&#x27;num&#x27;,\n",
       "                                                  Pipeline(steps=[(&#x27;imputer&#x27;,\n",
       "                                                                   SimpleImputer()),\n",
       "                                                                  (&#x27;scaler&#x27;,\n",
       "                                                                   StandardScaler())]),\n",
       "                                                  [&#x27;age&#x27;, &#x27;fare&#x27;]),\n",
       "                                                 (&#x27;cat&#x27;,\n",
       "                                                  OneHotEncoder(handle_unknown=&#x27;ignore&#x27;),\n",
       "                                                  [&#x27;embarked&#x27;, &#x27;sex&#x27;,\n",
       "                                                   &#x27;pclass&#x27;])])),\n",
       "                (&#x27;classifier&#x27;, LogisticRegression(C=100))])</pre></div></div></div><div class=\"sk-serial\"><div class=\"sk-item\"><div class=\"sk-serial\"><div class=\"sk-item sk-dashed-wrapped\"><div class=\"sk-label-container\"><div class=\"sk-label sk-toggleable\"><input class=\"sk-toggleable__control sk-hidden--visually\" id=\"sk-estimator-id-11\" type=\"checkbox\" ><label for=\"sk-estimator-id-11\" class=\"sk-toggleable__label sk-toggleable__label-arrow\">preprocessor: ColumnTransformer</label><div class=\"sk-toggleable__content\"><pre>ColumnTransformer(transformers=[(&#x27;num&#x27;,\n",
       "                                 Pipeline(steps=[(&#x27;imputer&#x27;, SimpleImputer()),\n",
       "                                                 (&#x27;scaler&#x27;, StandardScaler())]),\n",
       "                                 [&#x27;age&#x27;, &#x27;fare&#x27;]),\n",
       "                                (&#x27;cat&#x27;, OneHotEncoder(handle_unknown=&#x27;ignore&#x27;),\n",
       "                                 [&#x27;embarked&#x27;, &#x27;sex&#x27;, &#x27;pclass&#x27;])])</pre></div></div></div><div class=\"sk-parallel\"><div class=\"sk-parallel-item\"><div class=\"sk-item\"><div class=\"sk-label-container\"><div class=\"sk-label sk-toggleable\"><input class=\"sk-toggleable__control sk-hidden--visually\" id=\"sk-estimator-id-12\" type=\"checkbox\" ><label for=\"sk-estimator-id-12\" class=\"sk-toggleable__label sk-toggleable__label-arrow\">num</label><div class=\"sk-toggleable__content\"><pre>[&#x27;age&#x27;, &#x27;fare&#x27;]</pre></div></div></div><div class=\"sk-serial\"><div class=\"sk-item\"><div class=\"sk-serial\"><div class=\"sk-item\"><div class=\"sk-estimator sk-toggleable\"><input class=\"sk-toggleable__control sk-hidden--visually\" id=\"sk-estimator-id-13\" type=\"checkbox\" ><label for=\"sk-estimator-id-13\" class=\"sk-toggleable__label sk-toggleable__label-arrow\">SimpleImputer</label><div class=\"sk-toggleable__content\"><pre>SimpleImputer()</pre></div></div></div><div class=\"sk-item\"><div class=\"sk-estimator sk-toggleable\"><input class=\"sk-toggleable__control sk-hidden--visually\" id=\"sk-estimator-id-14\" type=\"checkbox\" ><label for=\"sk-estimator-id-14\" class=\"sk-toggleable__label sk-toggleable__label-arrow\">StandardScaler</label><div class=\"sk-toggleable__content\"><pre>StandardScaler()</pre></div></div></div></div></div></div></div></div><div class=\"sk-parallel-item\"><div class=\"sk-item\"><div class=\"sk-label-container\"><div class=\"sk-label sk-toggleable\"><input class=\"sk-toggleable__control sk-hidden--visually\" id=\"sk-estimator-id-15\" type=\"checkbox\" ><label for=\"sk-estimator-id-15\" class=\"sk-toggleable__label sk-toggleable__label-arrow\">cat</label><div class=\"sk-toggleable__content\"><pre>[&#x27;embarked&#x27;, &#x27;sex&#x27;, &#x27;pclass&#x27;]</pre></div></div></div><div class=\"sk-serial\"><div class=\"sk-item\"><div class=\"sk-estimator sk-toggleable\"><input class=\"sk-toggleable__control sk-hidden--visually\" id=\"sk-estimator-id-16\" type=\"checkbox\" ><label for=\"sk-estimator-id-16\" class=\"sk-toggleable__label sk-toggleable__label-arrow\">OneHotEncoder</label><div class=\"sk-toggleable__content\"><pre>OneHotEncoder(handle_unknown=&#x27;ignore&#x27;)</pre></div></div></div></div></div></div></div></div><div class=\"sk-item\"><div class=\"sk-estimator sk-toggleable\"><input class=\"sk-toggleable__control sk-hidden--visually\" id=\"sk-estimator-id-17\" type=\"checkbox\" ><label for=\"sk-estimator-id-17\" class=\"sk-toggleable__label sk-toggleable__label-arrow\">LogisticRegression</label><div class=\"sk-toggleable__content\"><pre>LogisticRegression(C=100)</pre></div></div></div></div></div></div></div></div></div></div></div></div>"
      ],
      "text/plain": [
       "GridSearchCV(cv=10,\n",
       "             estimator=Pipeline(steps=[('preprocessor',\n",
       "                                        ColumnTransformer(transformers=[('num',\n",
       "                                                                         Pipeline(steps=[('imputer',\n",
       "                                                                                          SimpleImputer()),\n",
       "                                                                                         ('scaler',\n",
       "                                                                                          StandardScaler())]),\n",
       "                                                                         ['age',\n",
       "                                                                          'fare']),\n",
       "                                                                        ('cat',\n",
       "                                                                         OneHotEncoder(handle_unknown='ignore'),\n",
       "                                                                         ['embarked',\n",
       "                                                                          'sex',\n",
       "                                                                          'pclass'])])),\n",
       "                                       ('classifier',\n",
       "                                        LogisticRegression(C=100))]),\n",
       "             param_grid={'classifier__C': [0.1, 1.0, 10, 100],\n",
       "                         'preprocessor__num__imputer__strategy': ['mean',\n",
       "                                                                  'median']})"
      ]
     },
     "execution_count": 9,
     "metadata": {},
     "output_type": "execute_result"
    }
   ],
   "source": [
    "param_grid = {\n",
    "    \"preprocessor__num__imputer__strategy\": [\"mean\", \"median\"],\n",
    "    \"classifier__C\": [0.1, 1.0, 10, 100],\n",
    "}\n",
    "\n",
    "grid_search = GridSearchCV(clf, param_grid, cv=10)\n",
    "grid_search"
   ]
  },
  {
   "cell_type": "markdown",
   "id": "6be0f0f9",
   "metadata": {},
   "source": [
    "Calling ‘fit’ triggers the cross-validated search for the best hyper-parameters combination:\n",
    "\n",
    "Calling autolog before fitting model\n",
    "\n",
    "#### mlflow.autolog(log_model_signatures=False)\n",
    "\n",
    "whithout signature because we'll get this:  \n",
    "\n",
    "WARNING mlflow.sklearn: Failed to infer model signature: Unable to map 'object' type to MLflow DataType. object canbe mapped iff all values have identical data type which is one of (string, (bytes or byterray),  int, float).\n",
    "\n",
    "our raw data contains rows with object as type, which is not supported by ModelSignatures, then it is processed by the pipeline"
   ]
  },
  {
   "cell_type": "code",
   "execution_count": 10,
   "id": "f44e6a40",
   "metadata": {},
   "outputs": [
    {
     "name": "stderr",
     "output_type": "stream",
     "text": [
      "2022/10/06 11:42:11 INFO mlflow.tracking.fluent: Experiment with name 'titanic-autolog-exper1' does not exist. Creating a new experiment.\n",
      "2022/10/06 11:42:11 WARNING mlflow.utils: Truncated the value of the key `estimator`. Truncated value: `Pipeline(steps=[('preprocessor',\n",
      "                 ColumnTransformer(transformers=[('num',\n",
      "                                                  Pipeline(steps=[('imputer',\n",
      "                                                                   SimpleImputer()),\n",
      "                                                                  ('scaler',\n",
      "                                                                   StandardScaler())]),\n",
      "                                                  ['age', 'fare']),\n",
      "           ...`\n",
      "2022/10/06 11:42:27 INFO mlflow.sklearn.utils: Logging the 5 best runs, 3 runs will be omitted.\n",
      "2022/10/06 11:42:27 WARNING mlflow.utils.autologging_utils: MLflow autologging encountered a warning: \"/home/mohamed/.pyenv/versions/3.10.6/envs/mlflow-py3.10/lib/python3.10/site-packages/mlflow/sklearn/utils.py:784: FutureWarning: iteritems is deprecated and will be removed in a future version. Use .items instead.\"\n"
     ]
    },
    {
     "name": "stdout",
     "output_type": "stream",
     "text": [
      "Best params:   {'classifier__C': 0.1, 'preprocessor__num__imputer__strategy': 'mean'}\n"
     ]
    }
   ],
   "source": [
    "from mlflow import MlflowClient\n",
    "    \n",
    "EXPERIMENT_NAME = \"titanic-autolog-exper1\"\n",
    "\n",
    "experiment = mlflow.set_experiment(EXPERIMENT_NAME)\n",
    "EXPERIMENT_ID=experiment.experiment_id\n",
    "\n",
    "RUN_NAME=\"run_Auto_1\"\n",
    "with mlflow.start_run(experiment_id=EXPERIMENT_ID,run_name=RUN_NAME) as run_auto:\n",
    "    \n",
    "    mlflow.sklearn.autolog(log_model_signatures=False)\n",
    "        \n",
    "    grid_search.fit(X_train, y_train)\n",
    "\n",
    "print(\"Best params:  \",grid_search.best_params_)\n",
    "\n",
    "\n"
   ]
  },
  {
   "cell_type": "code",
   "execution_count": 11,
   "id": "be217a56",
   "metadata": {},
   "outputs": [
    {
     "name": "stdout",
     "output_type": "stream",
     "text": [
      "Internal CV score: 0.783\n"
     ]
    }
   ],
   "source": [
    "print(f\"Internal CV score: {grid_search.best_score_:.3f}\")"
   ]
  },
  {
   "cell_type": "code",
   "execution_count": 12,
   "id": "b23d6b1d",
   "metadata": {},
   "outputs": [
    {
     "data": {
      "text/html": [
       "<div>\n",
       "<style scoped>\n",
       "    .dataframe tbody tr th:only-of-type {\n",
       "        vertical-align: middle;\n",
       "    }\n",
       "\n",
       "    .dataframe tbody tr th {\n",
       "        vertical-align: top;\n",
       "    }\n",
       "\n",
       "    .dataframe thead th {\n",
       "        text-align: right;\n",
       "    }\n",
       "</style>\n",
       "<table border=\"1\" class=\"dataframe\">\n",
       "  <thead>\n",
       "    <tr style=\"text-align: right;\">\n",
       "      <th></th>\n",
       "      <th>mean_test_score</th>\n",
       "      <th>std_test_score</th>\n",
       "      <th>param_preprocessor__num__imputer__strategy</th>\n",
       "      <th>param_classifier__C</th>\n",
       "    </tr>\n",
       "  </thead>\n",
       "  <tbody>\n",
       "    <tr>\n",
       "      <th>0</th>\n",
       "      <td>0.783223</td>\n",
       "      <td>0.038166</td>\n",
       "      <td>mean</td>\n",
       "      <td>0.1</td>\n",
       "    </tr>\n",
       "    <tr>\n",
       "      <th>1</th>\n",
       "      <td>0.781319</td>\n",
       "      <td>0.038468</td>\n",
       "      <td>median</td>\n",
       "      <td>0.1</td>\n",
       "    </tr>\n",
       "    <tr>\n",
       "      <th>2</th>\n",
       "      <td>0.781310</td>\n",
       "      <td>0.032086</td>\n",
       "      <td>mean</td>\n",
       "      <td>1.0</td>\n",
       "    </tr>\n",
       "    <tr>\n",
       "      <th>4</th>\n",
       "      <td>0.780357</td>\n",
       "      <td>0.032223</td>\n",
       "      <td>mean</td>\n",
       "      <td>10</td>\n",
       "    </tr>\n",
       "    <tr>\n",
       "      <th>6</th>\n",
       "      <td>0.780357</td>\n",
       "      <td>0.032223</td>\n",
       "      <td>mean</td>\n",
       "      <td>100</td>\n",
       "    </tr>\n",
       "    <tr>\n",
       "      <th>5</th>\n",
       "      <td>0.779396</td>\n",
       "      <td>0.030362</td>\n",
       "      <td>median</td>\n",
       "      <td>10</td>\n",
       "    </tr>\n",
       "    <tr>\n",
       "      <th>7</th>\n",
       "      <td>0.779396</td>\n",
       "      <td>0.030362</td>\n",
       "      <td>median</td>\n",
       "      <td>100</td>\n",
       "    </tr>\n",
       "    <tr>\n",
       "      <th>3</th>\n",
       "      <td>0.778434</td>\n",
       "      <td>0.029904</td>\n",
       "      <td>median</td>\n",
       "      <td>1.0</td>\n",
       "    </tr>\n",
       "  </tbody>\n",
       "</table>\n",
       "</div>"
      ],
      "text/plain": [
       "   mean_test_score  std_test_score param_preprocessor__num__imputer__strategy  \\\n",
       "0         0.783223        0.038166                                       mean   \n",
       "1         0.781319        0.038468                                     median   \n",
       "2         0.781310        0.032086                                       mean   \n",
       "4         0.780357        0.032223                                       mean   \n",
       "6         0.780357        0.032223                                       mean   \n",
       "5         0.779396        0.030362                                     median   \n",
       "7         0.779396        0.030362                                     median   \n",
       "3         0.778434        0.029904                                     median   \n",
       "\n",
       "  param_classifier__C  \n",
       "0                 0.1  \n",
       "1                 0.1  \n",
       "2                 1.0  \n",
       "4                  10  \n",
       "6                 100  \n",
       "5                  10  \n",
       "7                 100  \n",
       "3                 1.0  "
      ]
     },
     "execution_count": 12,
     "metadata": {},
     "output_type": "execute_result"
    }
   ],
   "source": [
    "import pandas as pd\n",
    "\n",
    "cv_results = pd.DataFrame(grid_search.cv_results_)\n",
    "cv_results = cv_results.sort_values(\"mean_test_score\", ascending=False)\n",
    "cv_results[\n",
    "    [\n",
    "        \"mean_test_score\",\n",
    "        \"std_test_score\",\n",
    "        \"param_preprocessor__num__imputer__strategy\",\n",
    "        \"param_classifier__C\",\n",
    "    ]\n",
    "]"
   ]
  },
  {
   "cell_type": "markdown",
   "id": "e98b2793",
   "metadata": {},
   "source": [
    "The best hyper-parameters have be used to re-fit a final model on the full training set. We can evaluate that final model on held out test data that was not used for hyperparameter tuning."
   ]
  },
  {
   "cell_type": "code",
   "execution_count": 13,
   "id": "c2e900d7",
   "metadata": {},
   "outputs": [
    {
     "name": "stdout",
     "output_type": "stream",
     "text": [
      "best logistic regression from grid search: 0.798\n"
     ]
    }
   ],
   "source": [
    "print(\n",
    "    (\n",
    "        \"best logistic regression from grid search: %.3f\"\n",
    "        % grid_search.score(X_test, y_test)\n",
    "    )\n",
    ")"
   ]
  },
  {
   "cell_type": "markdown",
   "id": "d6ea01bd",
   "metadata": {},
   "source": [
    "### Create a registry and register a model version "
   ]
  },
  {
   "cell_type": "code",
   "execution_count": 38,
   "id": "a6df5838",
   "metadata": {},
   "outputs": [
    {
     "name": "stderr",
     "output_type": "stream",
     "text": [
      "2022/10/06 15:01:47 INFO mlflow.tracking._model_registry.client: Waiting up to 300 seconds for model version to finish creation.                     Model name: gridSerchCV-titanic-reg-model-2, version 3\n"
     ]
    }
   ],
   "source": [
    "RUN_ID = run_auto.info.run_id\n",
    "EXPERIMENT_ID = experiment.experiment_id\n",
    "\n",
    "client = MlflowClient()\n",
    "#client.create_registered_model(\"gridSerchCV-titanic-reg-model-3\")\n",
    "result = client.create_model_version(\n",
    "    name=\"gridSerchCV-titanic-reg-model-3\",\n",
    "    source=f\"mlruns/{EXPERIMENT_ID}/{RUN_ID}/artifacts/best_estimator\",\n",
    "    run_id=\"{}\".format(run_auto.info.run_id)\n",
    ")"
   ]
  },
  {
   "cell_type": "markdown",
   "id": "18868dc1",
   "metadata": {},
   "source": [
    "### Transitioning an MLflow Model’s Stage "
   ]
  },
  {
   "cell_type": "code",
   "execution_count": 34,
   "id": "941104c6",
   "metadata": {},
   "outputs": [
    {
     "data": {
      "text/plain": [
       "<ModelVersion: creation_timestamp=1665060356622, current_stage='Staging', description=None, last_updated_timestamp=1665060818421, name='gridSerchCV-titanic-reg-model-3', run_id='4d5d7473287e415d9d8a85869eea49a3', run_link=None, source='mlruns/2/4d5d7473287e415d9d8a85869eea49a3/artifacts/best_estimator', status='READY', status_message=None, tags={}, user_id=None, version=1>"
      ]
     },
     "execution_count": 34,
     "metadata": {},
     "output_type": "execute_result"
    }
   ],
   "source": [
    "client.transition_model_version_stage(\n",
    "    name=\"gridSerchCV-titanic-reg-model-3\",\n",
    "    version=1,\n",
    "    stage=\"Staging\"\n",
    ")"
   ]
  },
  {
   "cell_type": "markdown",
   "id": "273d67ee",
   "metadata": {},
   "source": [
    "### Deleting MLflow Models"
   ]
  },
  {
   "cell_type": "code",
   "execution_count": 37,
   "id": "d9e3c570",
   "metadata": {},
   "outputs": [],
   "source": [
    "versions=[1, 2, 3]\n",
    "for version in versions:\n",
    "    client.delete_model_version(name=\"gridSerchCV-titanic-reg-model-3\", version=version)\n",
    "\n",
    "# Delete a registered model along with all its versions\n",
    "client.delete_registered_model(name=\"gridSerchCV-titanic-reg-model-3\")"
   ]
  },
  {
   "cell_type": "markdown",
   "id": "2ba07d3a",
   "metadata": {},
   "source": [
    "###   Fetch a specific model version\n",
    "\n",
    "Fetch the latest model version in a specific stage: stage(Production, Staging ..) instead of model_version"
   ]
  },
  {
   "cell_type": "code",
   "execution_count": 7,
   "id": "28688f76",
   "metadata": {},
   "outputs": [
    {
     "data": {
      "text/plain": [
       "array(['0', '1', '0', '0', '0', '1', '0', '0', '0', '0', '0', '0', '0',\n",
       "       '1', '1', '0', '1', '0', '1', '0', '0', '0', '0', '1', '0', '1',\n",
       "       '0', '0', '0', '1', '1', '1', '1', '0', '1', '0', '0', '0', '0',\n",
       "       '0', '0', '0', '0', '0', '1', '0', '0', '1', '0', '0', '1', '0',\n",
       "       '0', '1', '0', '0', '1', '0', '1', '1', '0', '0', '1', '0', '1',\n",
       "       '1', '0', '0', '0', '1', '1', '0', '0', '0', '1', '1', '0', '1',\n",
       "       '1', '0', '0', '1', '0', '0', '1', '1', '0', '0', '0', '0', '0',\n",
       "       '0', '0', '0', '0', '0', '0', '1', '0', '1', '0', '0', '0', '1',\n",
       "       '0', '0', '1', '0', '0', '0', '0', '0', '0', '0', '1', '0', '0',\n",
       "       '0', '0', '1', '0', '0', '0', '1', '0', '0', '0', '0', '0', '0',\n",
       "       '0', '0', '0', '1', '0', '0', '0', '1', '0', '1', '0', '1', '0',\n",
       "       '0', '0', '0', '1', '0', '1', '0', '1', '0', '0', '1', '0', '0',\n",
       "       '1', '1', '0', '0', '0', '0', '0', '1', '0', '1', '0', '0', '0',\n",
       "       '0', '0', '0', '1', '0', '1', '0', '0', '1', '1', '1', '1', '0',\n",
       "       '1', '0', '1', '1', '1', '0', '0', '0', '0', '0', '1', '0', '0',\n",
       "       '1', '0', '1', '0', '0', '0', '0', '0', '1', '0', '0', '0', '0',\n",
       "       '0', '0', '1', '0', '0', '0', '1', '0', '0', '0', '0', '0', '1',\n",
       "       '1', '1', '1', '1', '0', '1', '1', '1', '1', '1', '0', '0', '1',\n",
       "       '0', '0', '1', '0', '0', '0', '0', '1', '0', '0', '0', '0', '0',\n",
       "       '0', '1', '0', '0', '0', '0', '0', '1', '0', '1', '0', '0', '0',\n",
       "       '0', '0'], dtype=object)"
      ]
     },
     "execution_count": 7,
     "metadata": {},
     "output_type": "execute_result"
    }
   ],
   "source": [
    "#import mlflow.pyfunc\n",
    "#mlflow.set_tracking_uri(\"sqlite:///mlruns.db\")\n",
    "#X_train, X_test, y_train, y_test = train_test_split(X, y, test_size=0.2, random_state=0)\n",
    "#data = X_test\n",
    "\n",
    "model_name = \"gridSerchCV-titanic-reg-model-2\"\n",
    "model_version = 1\n",
    "\n",
    "model = mlflow.pyfunc.load_model(\n",
    "    model_uri=f\"models:/{model_name}/{model_version}\"\n",
    ")\n",
    "\n",
    "\n",
    "model.predict(data)"
   ]
  },
  {
   "cell_type": "code",
   "execution_count": null,
   "id": "b14f6e14",
   "metadata": {},
   "outputs": [],
   "source": []
  }
 ],
 "metadata": {
  "kernelspec": {
   "display_name": "mlflow-py3.10",
   "language": "python",
   "name": "mlflow-py3.10"
  },
  "language_info": {
   "codemirror_mode": {
    "name": "ipython",
    "version": 3
   },
   "file_extension": ".py",
   "mimetype": "text/x-python",
   "name": "python",
   "nbconvert_exporter": "python",
   "pygments_lexer": "ipython3",
   "version": "3.10.6"
  }
 },
 "nbformat": 4,
 "nbformat_minor": 5
}
